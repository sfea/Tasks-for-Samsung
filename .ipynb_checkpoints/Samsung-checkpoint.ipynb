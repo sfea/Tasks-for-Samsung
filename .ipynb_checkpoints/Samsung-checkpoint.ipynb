{
 "cells": [
  {
   "cell_type": "markdown",
   "metadata": {},
   "source": [
    "# Problem 1. Clocks vs crocodiles classification."
   ]
  },
  {
   "cell_type": "code",
   "execution_count": 2,
   "metadata": {},
   "outputs": [],
   "source": [
    "import numpy as np\n",
    "\n",
    "import torch\n",
    "import torch.nn as nn\n",
    "import torch.nn.functional as F\n",
    "from torch.autograd import Variable\n",
    "\n",
    "import scipy as sp\n",
    "import scipy.misc\n",
    "\n",
    "from sklearn.model_selection import train_test_split\n",
    "from sklearn import svm\n",
    "from sklearn.model_selection import GridSearchCV\n",
    "from sklearn.metrics import accuracy_score\n",
    "\n",
    "import os\n",
    "import imageio\n",
    "import cv2\n",
    "from matplotlib import pyplot as plt\n",
    "\n",
    "% matplotlib inline"
   ]
  },
  {
   "cell_type": "code",
   "execution_count": 3,
   "metadata": {},
   "outputs": [],
   "source": [
    "crocodiles_folder = \"crocodile/\"\n",
    "clocks_folder = \"clock/\""
   ]
  },
  {
   "cell_type": "code",
   "execution_count": 4,
   "metadata": {},
   "outputs": [],
   "source": [
    "crocodiles_files = [f for f in os.listdir(crocodiles_folder) if os.path.isfile(os.path.join(crocodiles_folder, f))]"
   ]
  },
  {
   "cell_type": "code",
   "execution_count": 5,
   "metadata": {},
   "outputs": [],
   "source": [
    "clocks_files = [f for f in os.listdir(clocks_folder) if os.path.isfile(os.path.join(clocks_folder, f))]"
   ]
  },
  {
   "cell_type": "code",
   "execution_count": 6,
   "metadata": {},
   "outputs": [],
   "source": [
    "img = imageio.imread(clocks_folder + clocks_files[10])"
   ]
  },
  {
   "cell_type": "code",
   "execution_count": 9,
   "metadata": {},
   "outputs": [
    {
     "data": {
      "image/png": "[encoded data removed]",
      "text/plain": [
       "<matplotlib.figure.Figure at 0x7fe04aaf1090>"
      ]
     },
     "metadata": {},
     "output_type": "display_data"
    }
   ],
   "source": [
    "plt.imshow(img.reshape(32, 32, 3))\n",
    "plt.show()"
   ]
  },
  {
   "cell_type": "code",
   "execution_count": 10,
   "metadata": {},
   "outputs": [
    {
     "data": {
      "text/plain": [
       "500"
      ]
     },
     "execution_count": 10,
     "metadata": {},
     "output_type": "execute_result"
    }
   ],
   "source": [
    "len(clocks_files)"
   ]
  },
  {
   "cell_type": "code",
   "execution_count": 11,
   "metadata": {},
   "outputs": [
    {
     "data": {
      "text/plain": [
       "500"
      ]
     },
     "execution_count": 11,
     "metadata": {},
     "output_type": "execute_result"
    }
   ],
   "source": [
    "len(crocodiles_files)"
   ]
  },
  {
   "cell_type": "markdown",
   "metadata": {},
   "source": [
    "**There are 500 photos of clocks and the same amount of crocodiles. Let's turn them to covenient form - numpy arrays**"
   ]
  },
  {
   "cell_type": "code",
   "execution_count": 12,
   "metadata": {},
   "outputs": [],
   "source": [
    "clocks = []\n",
    "crocodiles = []"
   ]
  },
  {
   "cell_type": "code",
   "execution_count": 13,
   "metadata": {},
   "outputs": [],
   "source": [
    "for f in clocks_files:\n",
    "    clocks.append(imageio.imread(clocks_folder + f).reshape(3, 32, 32))"
   ]
  },
  {
   "cell_type": "code",
   "execution_count": 14,
   "metadata": {},
   "outputs": [],
   "source": [
    "for f in crocodiles_files:\n",
    "    crocodiles.append(imageio.imread(crocodiles_folder + f).reshape(3, 32, 32))"
   ]
  },
  {
   "cell_type": "code",
   "execution_count": 15,
   "metadata": {},
   "outputs": [],
   "source": [
    "clocks = np.array(clocks)"
   ]
  },
  {
   "cell_type": "code",
   "execution_count": 16,
   "metadata": {},
   "outputs": [],
   "source": [
    "crocodiles = np.array(crocodiles)"
   ]
  },
  {
   "cell_type": "code",
   "execution_count": 19,
   "metadata": {},
   "outputs": [],
   "source": [
    "y_clocks = np.zeros(len(clocks), dtype=np.int64)\n",
    "y_crocodiles = np.ones(len(crocodiles), dtype=np.int64)"
   ]
  },
  {
   "cell_type": "code",
   "execution_count": 20,
   "metadata": {},
   "outputs": [],
   "source": [
    "dataset = np.vstack([clocks, crocodiles])"
   ]
  },
  {
   "cell_type": "code",
   "execution_count": 22,
   "metadata": {},
   "outputs": [],
   "source": [
    "y = np.hstack([y_clocks, y_crocodiles])"
   ]
  },
  {
   "cell_type": "code",
   "execution_count": 23,
   "metadata": {},
   "outputs": [],
   "source": [
    "X_train, X_test, y_train, y_test = train_test_split(dataset, y, test_size = 0.2, random_state = 4)"
   ]
  },
  {
   "cell_type": "markdown",
   "metadata": {},
   "source": [
    "# Training"
   ]
  },
  {
   "cell_type": "markdown",
   "metadata": {},
   "source": [
    "**Let's firstly try some simple classifier for the task, for example SVM. It's better to perform cross validation here, because the amount of data seems to be very small.**"
   ]
  },
  {
   "cell_type": "code",
   "execution_count": 24,
   "metadata": {},
   "outputs": [],
   "source": [
    "param_grid = {\"C\": [1, 2, 4, 8], \"kernel\": [\"linear\", \"rbf\"]}\n",
    "svc = svm.SVC()\n",
    "clf = GridSearchCV(svc, param_grid, scoring = \"accuracy\", cv = 5)"
   ]
  },
  {
   "cell_type": "code",
   "execution_count": 25,
   "metadata": {},
   "outputs": [],
   "source": [
    "X_train_flatten = np.array(list(map(lambda x: x.flatten(), X_train)))"
   ]
  },
  {
   "cell_type": "code",
   "execution_count": 26,
   "metadata": {},
   "outputs": [],
   "source": [
    "X_test_flatten = np.array(list(map(lambda x: x.flatten(), X_test)))"
   ]
  },
  {
   "cell_type": "code",
   "execution_count": 27,
   "metadata": {},
   "outputs": [
    {
     "data": {
      "text/plain": [
       "GridSearchCV(cv=5, error_score='raise',\n",
       "       estimator=SVC(C=1.0, cache_size=200, class_weight=None, coef0=0.0,\n",
       "  decision_function_shape='ovr', degree=3, gamma='auto', kernel='rbf',\n",
       "  max_iter=-1, probability=False, random_state=None, shrinking=True,\n",
       "  tol=0.001, verbose=False),\n",
       "       fit_params=None, iid=True, n_jobs=1,\n",
       "       param_grid={'kernel': ['linear', 'rbf'], 'C': [1, 2, 4, 8]},\n",
       "       pre_dispatch='2*n_jobs', refit=True, return_train_score='warn',\n",
       "       scoring='accuracy', verbose=0)"
      ]
     },
     "execution_count": 27,
     "metadata": {},
     "output_type": "execute_result"
    }
   ],
   "source": [
    "clf.fit(X_train_flatten, y_train)"
   ]
  },
  {
   "cell_type": "markdown",
   "metadata": {},
   "source": [
    "# Testing"
   ]
  },
  {
   "cell_type": "code",
   "execution_count": 28,
   "metadata": {},
   "outputs": [
    {
     "data": {
      "text/plain": [
       "0.67500000000000004"
      ]
     },
     "execution_count": 28,
     "metadata": {},
     "output_type": "execute_result"
    }
   ],
   "source": [
    "accuracy_score(clf.predict(X_test_flatten), y_test)"
   ]
  },
  {
   "cell_type": "markdown",
   "metadata": {},
   "source": [
    "**The score is not as high, as it's expected to be. Let's build some simple CNN.**"
   ]
  },
  {
   "cell_type": "code",
   "execution_count": 29,
   "metadata": {},
   "outputs": [],
   "source": [
    "class Flatten(nn.Module):\n",
    "    def forward(self, input):\n",
    "        return input.view(input.size(0), -1)"
   ]
  },
  {
   "cell_type": "code",
   "execution_count": 30,
   "metadata": {},
   "outputs": [],
   "source": [
    "def build_model():\n",
    "    model = nn.Sequential()\n",
    "\n",
    "    model.add_module('cl1', nn.Conv2d(in_channels = 3, out_channels = 16, kernel_size = 3))\n",
    "    model.add_module('bn_cl1', nn.BatchNorm2d(16))\n",
    "    model.add_module('relu_cl1', nn.ReLU())\n",
    "\n",
    "    model.add_module('cl2', nn.Conv2d(in_channels = 16, out_channels = 32, kernel_size = 3))\n",
    "    model.add_module('bn_cl2', nn.BatchNorm2d(32))\n",
    "    model.add_module('mp_cl2', nn.MaxPool2d(kernel_size = 2))\n",
    "    model.add_module('relu_cl2', nn.ReLU())\n",
    "\n",
    "    model.add_module('cl3', nn.Conv2d(in_channels = 32, out_channels = 64, kernel_size = 3))\n",
    "    model.add_module('bn_cl3', nn.BatchNorm2d(64))\n",
    "    model.add_module('relu_cl3', nn.ReLU())\n",
    "\n",
    "    model.add_module('cl4', nn.Conv2d(in_channels = 64, out_channels = 256, kernel_size = 3))\n",
    "    model.add_module('bn_cl4', nn.BatchNorm2d(256))\n",
    "    model.add_module('mp_cl4', nn.MaxPool2d(kernel_size = 2))\n",
    "    model.add_module('relu_cl4', nn.ReLU())\n",
    "\n",
    "    model.add_module('fl', Flatten())\n",
    "\n",
    "    model.add_module('fc1', nn.Linear(in_features = 5 * 5 * 256, out_features = 512))\n",
    "    model.add_module('bn_fc1', nn.BatchNorm1d(num_features = 512))\n",
    "    model.add_module('relu_fc1', nn.ReLU())\n",
    "\n",
    "    model.add_module('dropout_fc2', nn.Dropout())\n",
    "    model.add_module('fc2', nn.Linear(in_features = 512, out_features = 64))\n",
    "    model.add_module('bn_fc2', nn.BatchNorm1d(num_features = 64))\n",
    "    model.add_module('relu_fc2', nn.ReLU())\n",
    "\n",
    "    model.add_module('fc3', nn.Linear(in_features = 64, out_features = 2))\n",
    "    model.add_module('sm_fc3', nn.Softmax())\n",
    "    \n",
    "    return model"
   ]
  },
  {
   "cell_type": "markdown",
   "metadata": {},
   "source": [
    "**Also, it's useful to build function for batches creation**"
   ]
  },
  {
   "cell_type": "code",
   "execution_count": 31,
   "metadata": {},
   "outputs": [],
   "source": [
    "def iterate_minibatches(X, y, batchsize):\n",
    "    indices = np.random.permutation(np.arange(len(X)))\n",
    "    for start in range(0, len(indices), batchsize):\n",
    "        ix = indices[start: start + batchsize]\n",
    "        yield X[ix], y[ix]"
   ]
  },
  {
   "cell_type": "code",
   "execution_count": 75,
   "metadata": {},
   "outputs": [],
   "source": [
    "batch_size = 90\n",
    "n_epoch = 15"
   ]
  },
  {
   "cell_type": "markdown",
   "metadata": {},
   "source": [
    "**Let's now train the model**"
   ]
  },
  {
   "cell_type": "markdown",
   "metadata": {},
   "source": [
    "# Training and testing"
   ]
  },
  {
   "cell_type": "code",
   "execution_count": 85,
   "metadata": {
    "scrolled": true
   },
   "outputs": [
    {
     "name": "stdout",
     "output_type": "stream",
     "text": [
      "epoch #1\n",
      "loss = 0.56\n",
      "train accuracy = 0.50\n",
      "test accuracy = 0.40\n",
      "epoch #2\n",
      "loss = 0.49\n",
      "train accuracy = 0.49\n",
      "test accuracy = 0.50\n",
      "epoch #3\n",
      "loss = 0.49\n",
      "train accuracy = 0.45\n",
      "test accuracy = 0.45\n",
      "epoch #4\n",
      "loss = 0.43\n",
      "train accuracy = 0.65\n",
      "test accuracy = 0.65\n",
      "epoch #5\n",
      "loss = 0.42\n",
      "train accuracy = 0.71\n",
      "test accuracy = 0.85\n",
      "epoch #6\n",
      "loss = 0.36\n",
      "train accuracy = 0.85\n",
      "test accuracy = 0.60\n",
      "epoch #7\n",
      "loss = 0.36\n",
      "train accuracy = 0.93\n",
      "test accuracy = 0.80\n",
      "epoch #8\n",
      "loss = 0.36\n",
      "train accuracy = 0.97\n",
      "test accuracy = 0.65\n",
      "epoch #9\n",
      "loss = 0.35\n",
      "train accuracy = 1.00\n",
      "test accuracy = 0.85\n",
      "epoch #10\n",
      "loss = 0.34\n",
      "train accuracy = 1.00\n",
      "test accuracy = 0.90\n",
      "epoch #11\n",
      "loss = 0.33\n",
      "train accuracy = 1.00\n",
      "test accuracy = 0.65\n",
      "epoch #12\n",
      "loss = 0.32\n",
      "train accuracy = 1.00\n",
      "test accuracy = 0.90\n",
      "epoch #13\n",
      "loss = 0.33\n",
      "train accuracy = 0.99\n",
      "test accuracy = 0.85\n",
      "epoch #14\n",
      "loss = 0.33\n",
      "train accuracy = 1.00\n",
      "test accuracy = 0.75\n",
      "epoch #15\n",
      "loss = 0.32\n",
      "train accuracy = 1.00\n",
      "test accuracy = 0.90\n"
     ]
    }
   ],
   "source": [
    "net = build_model()\n",
    "opt = torch.optim.Adam(net.parameters(), lr = 1e-3)\n",
    "loss_array = []\n",
    "train_accuracy = []\n",
    "test_accuracy = []\n",
    "\n",
    "for i in range(n_epoch):\n",
    "    print(\"epoch #%i\" % (i + 1))\n",
    "    net.train(True)\n",
    "    for x_batch, y_batch in iterate_minibatches(X_train, y_train, batch_size):\n",
    "        loss = F.cross_entropy(net(Variable(torch.FloatTensor(x_batch))), \n",
    "                               Variable(torch.LongTensor(y_batch))).mean()\n",
    "        loss.backward()\n",
    "        opt.step()\n",
    "        opt.zero_grad()\n",
    "        loss_array.append(loss)\n",
    "    print(\"loss = %.2f\" % loss)\n",
    "        \n",
    "    net.train(False)\n",
    "    \n",
    "    for x_batch, y_batch in iterate_minibatches(X_train, y_train, batch_size):\n",
    "        logits = net(Variable(torch.FloatTensor(x_batch)))\n",
    "        y_pred = logits.max(1)[1].data.numpy()\n",
    "        train_accuracy.append(np.mean(y_batch == y_pred))\n",
    "    print(\"train accuracy = %.2f\" % train_accuracy[-1])\n",
    "    \n",
    "    for x_batch, y_batch in iterate_minibatches(X_test, y_test, batch_size):\n",
    "        logits = net(Variable(torch.FloatTensor(x_batch)))\n",
    "        y_pred = logits.max(1)[1].data.numpy()\n",
    "        test_accuracy.append(np.mean(y_batch == y_pred))\n",
    "    print(\"test accuracy = %.2f\" % test_accuracy[-1])"
   ]
  },
  {
   "cell_type": "code",
   "execution_count": 86,
   "metadata": {},
   "outputs": [],
   "source": [
    "losses = np.array(list(map(lambda x: x.data.numpy()[0], loss_array)))"
   ]
  },
  {
   "cell_type": "code",
   "execution_count": 170,
   "metadata": {},
   "outputs": [
    {
     "name": "stdout",
     "output_type": "stream",
     "text": [
      "Loss: 0.32\n"
     ]
    },
    {
     "data": {
      "image/png": "[encoded data removed]",
      "text/plain": [
       "<matplotlib.figure.Figure at 0x7fdff4774310>"
      ]
     },
     "metadata": {},
     "output_type": "display_data"
    }
   ],
   "source": [
    "plt.plot(losses)\n",
    "print(\"Loss: %.2f\" % losses[-1])"
   ]
  },
  {
   "cell_type": "code",
   "execution_count": 168,
   "metadata": {},
   "outputs": [
    {
     "name": "stdout",
     "output_type": "stream",
     "text": [
      "Train accuracy: 1.00\n"
     ]
    },
    {
     "data": {
      "image/png": "[encoded data removed]",
      "text/plain": [
       "<matplotlib.figure.Figure at 0x7fdff4b00590>"
      ]
     },
     "metadata": {},
     "output_type": "display_data"
    }
   ],
   "source": [
    "plt.plot(train_accuracy)\n",
    "print(\"Train accuracy: %.2f\" % train_accuracy[-1])"
   ]
  },
  {
   "cell_type": "code",
   "execution_count": 169,
   "metadata": {},
   "outputs": [
    {
     "name": "stdout",
     "output_type": "stream",
     "text": [
      "Test accuracy: 0.90\n"
     ]
    },
    {
     "data": {
      "image/png": "[encoded data removed]",
      "text/plain": [
       "<matplotlib.figure.Figure at 0x7fdff4b21950>"
      ]
     },
     "metadata": {},
     "output_type": "display_data"
    }
   ],
   "source": [
    "plt.plot(test_accuracy)\n",
    "print(\"Test accuracy: %.2f\" % test_accuracy[-1])"
   ]
  },
  {
   "cell_type": "markdown",
   "metadata": {},
   "source": [
    "**One can see, that the plots are not stable, but there is a clear tendency for loss to drop and for accuracy to increase.**"
   ]
  },
  {
   "cell_type": "markdown",
   "metadata": {},
   "source": [
    "# Looking for pictures, similar to both classes."
   ]
  },
  {
   "cell_type": "markdown",
   "metadata": {},
   "source": [
    "**Let's now find pictures, that are similar to clocks and crocodiles simultaneously. The indicator for this is that softmax vector (y_pred in our notation) has values of all coordinates at about 0.5. Or, in other words $$np.abs(\\text{y_pred} - 0.5) \\leq 0.1$$**"
   ]
  },
  {
   "cell_type": "code",
   "execution_count": 191,
   "metadata": {},
   "outputs": [],
   "source": [
    "X_susp_train = []\n",
    "class_pred = []\n",
    "\n",
    "for x_batch, y_batch in iterate_minibatches(X_train, y_train, batch_size):\n",
    "    logits = net(Variable(torch.FloatTensor(x_batch)))\n",
    "    y_pred = logits.max(1)[0].data.numpy()\n",
    "    susp_indices_train = np.array(np.where(np.abs(y_pred - 0.5) <= 0.1))[0]\n",
    "    if len(susp_indices_train) > 0:\n",
    "        for i in range(len(susp_indices_test)):\n",
    "            class_pred.append(logits.max(1)[1].data.numpy()[susp_indices_train[i]])\n",
    "            X_susp_train.append(x_batch[susp_indices_train[i]])"
   ]
  },
  {
   "cell_type": "code",
   "execution_count": 192,
   "metadata": {},
   "outputs": [
    {
     "name": "stdout",
     "output_type": "stream",
     "text": [
      "Was classified as clock\n"
     ]
    },
    {
     "data": {
      "image/png": "[encoded data removed]",
      "text/plain": [
       "<matplotlib.figure.Figure at 0x7fdff4456950>"
      ]
     },
     "metadata": {},
     "output_type": "display_data"
    }
   ],
   "source": [
    "for i in range(np.array(X_susp).shape[0]):\n",
    "    if class_pred[i] == 0:\n",
    "        print(\"Was classified as clock\")\n",
    "    else:\n",
    "        print(\"Was classified as crocodile\")\n",
    "    plt.imshow(X_susp[i].reshape(32, 32, 3))"
   ]
  },
  {
   "cell_type": "code",
   "execution_count": 194,
   "metadata": {},
   "outputs": [],
   "source": [
    "X_susp_test = []\n",
    "class_pred = []\n",
    "\n",
    "for x_batch, y_batch in iterate_minibatches(X_test, y_test, batch_size):\n",
    "    logits = net(Variable(torch.FloatTensor(x_batch)))\n",
    "    y_pred = logits.max(1)[0].data.numpy()\n",
    "    susp_indices_test = np.array(np.where(np.abs(y_pred - 0.5) <= 0.1))[0]\n",
    "    if len(susp_indices_test) > 0:\n",
    "        for i in range(len(susp_indices_test)):\n",
    "            class_pred.append(logits.max(1)[1].data.numpy()[susp_indices_test[i]])\n",
    "            X_susp_test.append(x_batch[susp_indices_test[i]])"
   ]
  },
  {
   "cell_type": "code",
   "execution_count": 196,
   "metadata": {},
   "outputs": [
    {
     "name": "stdout",
     "output_type": "stream",
     "text": [
      "Was classsified as crocodile\n"
     ]
    },
    {
     "data": {
      "image/png": "[encoded data removed]",
      "text/plain": [
       "<matplotlib.figure.Figure at 0x7fdff4841c10>"
      ]
     },
     "metadata": {},
     "output_type": "display_data"
    },
    {
     "name": "stdout",
     "output_type": "stream",
     "text": [
      "Was classified as clock\n"
     ]
    },
    {
     "data": {
      "image/png": "[encoded data removed]",
      "text/plain": [
       "<matplotlib.figure.Figure at 0x7fdff4aea5d0>"
      ]
     },
     "metadata": {},
     "output_type": "display_data"
    },
    {
     "name": "stdout",
     "output_type": "stream",
     "text": [
      "Was classsified as crocodile\n"
     ]
    },
    {
     "data": {
      "image/png": "[encoded data removed]",
      "text/plain": [
       "<matplotlib.figure.Figure at 0x7fdff45dbe50>"
      ]
     },
     "metadata": {},
     "output_type": "display_data"
    },
    {
     "name": "stdout",
     "output_type": "stream",
     "text": [
      "Was classsified as crocodile\n"
     ]
    },
    {
     "data": {
      "image/png": "[encoded data removed]",
      "text/plain": [
       "<matplotlib.figure.Figure at 0x7fdff45b4310>"
      ]
     },
     "metadata": {},
     "output_type": "display_data"
    }
   ],
   "source": [
    "for i in range(np.array(X_susp_test).shape[0]):\n",
    "    if class_pred[i] == 0:\n",
    "        print(\"Was classified as clock\")\n",
    "    else:\n",
    "        print(\"Was classsified as crocodile\")\n",
    "    plt.imshow(X_susp_test[i].reshape(32, 32, 3))\n",
    "    plt.show()"
   ]
  },
  {
   "cell_type": "markdown",
   "metadata": {},
   "source": [
    "# Problem 2. Gogol vs Hegel"
   ]
  },
  {
   "cell_type": "markdown",
   "metadata": {},
   "source": [
    "**For NLP problems bag of words technics is usually used. The main idea is to represent the text as a vector, which consists of numbers of times, that each word occurs in it.**"
   ]
  },
  {
   "cell_type": "code",
   "execution_count": 335,
   "metadata": {},
   "outputs": [],
   "source": [
    "gogol = [u\"В департаменте… но лучше не называть, в каком департаменте\",\n",
    "         u\"Ничего нет сердитее всякого рода департаментов, полков, канцелярий и, словом, всякого рода должностных\",\n",
    "         u\"Теперь уже всякий частный человек считает в лице своем оскорбленным всё общество.\",\n",
    "         u\"Говорят, весьма недавно поступила просьба от одного капитан‑исправника, не помню какого‑то города.\", \n",
    "         u\"в которой он излагает ясно, что гибнут государственные постановления и что священное имя его\",\n",
    "         u\"произносится решительно всуе. А в доказательство приложил к просьбе преогромнейший том какого‑то\",\n",
    "         u\"романтического сочинения, где чрез каждые десять страниц является капитан‑исправник, местами даже\",\n",
    "         u\"совершенно в пьяном виде. Итак, во избежание всяких неприятностей, лучше департамент, о котором идет\",\n",
    "         u\"дело, мы назовем одним департаментом. Итак, в одном департаменте служил один чиновник; чиновник нельзя\",\n",
    "         u\"сказать чтобы очень замечательный, низенького роста, несколько рябоват, несколько рыжеват, несколько\",\n",
    "         u\"даже на вид подслеповат, с небольшой лысиной на лбу, с морщинами по обеим сторонам щек и цветом лица\",\n",
    "         u\"что называется геморроидальным… Что ж делать! виноват петербургский климат. Что касается до чина\",\n",
    "         u\"(ибо у нас прежде всего нужно объявить чин), то он был то, что называют вечный титулярный советник, \",\n",
    "         u\"над которым, как известно, натрунились и наострились вдоволь разные писатели, имеющие похвальное\",\n",
    "         u\"обыкновенье налегать на тех, которые не могут кусаться. Фамилия чиновника была Башмачкин. Уже по \",\n",
    "         u\"самому имени видно, что она когда‑то произошла от башмака; но когда, в какое время и каким образом\",\n",
    "         u\"произошла она от башмака, ничего этого неизвестно. И отец, и дед, и даже шурин и все совершенно\",\n",
    "         u\"Башмачкины ходили в сапогах, переменяя только раза три в год подметки. Имя его было Акакий Акакиевич.\",\n",
    "         u\"Может быть, читателю оно покажется несколько странным и выисканным, но можно уверить, что его никак\",\n",
    "         u\"не искали, а что сами собою случились такие обстоятельства, что никак нельзя было дать другого имени, \",\n",
    "         u\"и это произошло именно вот как. Родился Акакий Акакиевич против ночи, если только не изменяет память, \",\n",
    "         u\"на 23 марта. Покойница матушка, чиновница и очень хорошая женщина, расположилась, как следует, \",\n",
    "         u\"окрестить ребенка. Матушка еще лежала на кровати против дверей, а по правую руку стоял кум, \",\n",
    "         u\"превосходнейший человек, Иван Иванович Ерошкин, служивший столоначальником в сенате, и кума, жена\",\n",
    "         u\"квартального офицера, женщина редких добродетелей, Арина Семеновна Белобрюшкова. Родильнице \",\n",
    "         u\"предоставили на выбор любое из трех, какое она хочет выбрать: Моккия, Сессия, или назвать ребенка \",\n",
    "         u\"во имя мученика Хоздазата. «Нет, – подумала покойница, – имена‑то всё такие». Чтобы угодить ей, \",\n",
    "         u\"развернули календарь в другом месте; вышли опять три имени: Трифилий, Дула и Варахасий. «Вот это \",\n",
    "         u\"наказание, – проговорила старуха, – какие всё имена; я, право, никогда и не слыхивала таких. Пусть бы\",\n",
    "         u\"еще Варадат или Варух, а то Трифилий и Варахасий».\"]\n",
    "gogol_test = [u\"Нигде не останавливалось столько народа, как перед картинною лавочкою на Щукином дворе.\", \n",
    "              u\"Эта лавочка представляла, точно, самое разнородное собрание диковинок.\", \n",
    "              u\"Зима с белыми деревьями, совершенно красный вечер, похожий на зарево пожара.\", \n",
    "              u\"К этому нужно присовокупить несколько гравированных изображений.\", \n",
    "              u\"Сверх того, двери такой лавочки обыкновенно бывают увешаны связками произведений.\",\n",
    "              u\"На одном была царевна Миликтриса Кирбитьевна, на другом город Иерусалим.\",\n",
    "              u\"Покупателей этих произведений обыкновенно немного, но зато зрителей-куча.\", \n",
    "              u\"Какой-нибудь забулдыга-лакей уже, верно, зевает перед ними, держа в руке судки с обедом из трактира\", \n",
    "              u\"Перед ним уже, верно, стоит в шинели солдат, этот кавалер толкучего рынка, продающий два перочинные ножика\",\n",
    "              u\"Всякой восхищается по-своему: мужики обыкновенно тыкают пальцами; кавалеры рассматривают серьёзно.\", \n",
    "              u\"В это время невольно остановился перед лавкою проходивший мимо молодой художник Чартков.\", \n",
    "              u\"Старая шинель и нещегольское платье показывали в нем того человека, который с самоотвержением предан был\"]"
   ]
  },
  {
   "cell_type": "code",
   "execution_count": 336,
   "metadata": {},
   "outputs": [],
   "source": [
    "gogol_target = np.zeros(len(gogol), dtype=np.int64)"
   ]
  },
  {
   "cell_type": "code",
   "execution_count": 337,
   "metadata": {},
   "outputs": [],
   "source": [
    "gegel = [u\"Представляет собой исследование форм существования сознания.\",\n",
    "         u\"Методом движения выбрана критика являющегося (естественного, неподлинного, обыденного, \",\n",
    "         u\"нереального — термины Гегеля) знания со стороны науки. Согласно Гегелю (см. Введение) наука тем, \",\n",
    "         u\"что выступает на сцену, сама есть только некоторое явление наряду с другим знанием. Наука не может \",\n",
    "         u\"просто отвергнуть неподлинное знание под тем предлогом, что она является истиной, а неподлинное, \",\n",
    "         u\"обыденное знание для неё ничего не значит. Ведь последнее, напротив, заявляет, что оно истинно и для\",\n",
    "         u\"него наука ничто. Одно голое уверение имеет одинаковый вес, как и другое. Именно поэтому, наука должна\",\n",
    "         u\"выступить, излагая являющееся знание, чтобы в нем самом показать его неистинность. Последовательность\",\n",
    "         u\"формообразований, которую сознание проходит на этом пути, есть история образования самого сознания до\",\n",
    "         u\"уровня науки. Более того, в этом последовательном движении от одной формы являющегося знания к другой,\",\n",
    "         u\"мы проходимполноту форм существования сознания. Тем самым, критика являющегося знания есть\",\n",
    "         u\"одновременно изложение самой науки об опыте сознания. Научным дополнением к изложению различных форм\",\n",
    "         u\"существования сознания, Гегель считает необходимую (логическую) связь, при котором от одной формы\",\n",
    "         u\"сознания мы переходим к другой. Этот переход Гегель и называет опытом сознания. В чем состоит эта\",\n",
    "         u\"связь? Гегель указывает, что «к какому бы результату ни привела критика неподлинного знания, его\",\n",
    "         u\"нельзя сводить к пустому ничто, а необходимо понимать как ничто того, чего он — результат, в коем\",\n",
    "         u\"содержится то, что является истинным в предшествующем знании». Эта связь различных форм существования\",\n",
    "         u\"сознания и определяет необходимость последовательного движения. У этого движения со своей стороны есть\",\n",
    "         u\"цель — она там, где знание выдерживает критику опытом, или как пишет Гегель, где «знанию нет\",\n",
    "         u\"необходимости выходить за пределы самого себя, где оно находит само себя и понятие соответствует\",\n",
    "         u\"своему предмету, а предмет — понятию». «Поступательное движение к этой цели оказывается\",\n",
    "         u\"безостановочно, и ни на какой более ранней стадии нельзя найти удовлетворения». Именно поэтому\",\n",
    "         u\"«Феноменология Духа» осуществляет одну из главных идей Гегеля состоящих в том, что истинное знание\",\n",
    "         u\"должно быть системой знания, а истинная наука — системой взаимосвязанных наук. Подготовлена к печати\",\n",
    "         u\"в 1805—1806, опубликована в 1807 под названием «Система наук. Первая часть. Феноменология духа»\",\n",
    "         u\"(одним из предварительных заголовков книги была также «Наука об опыте сознания»)\"]\n",
    "gegel_test = [u\"В качестве души в форме субстанциальной всеобщности дух отнесен как субъективная рефлексия\",\n",
    "              u\"Поэтому сознание, как отношение вообще, есть противоречие самостоятельности обеих этих сторон\", \n",
    "              u\"Та отрицательность, которую совершенно абстрактное я, или чистое сознание, проявляет\",\n",
    "              u\"На этой стадии возникает поэтому то противоречие, что предмет, с одной стороны, находится во мне\",\n",
    "              u\"Сознанию предмет является не как положенный посредством я, но как непосредственный, сущий, данный\",\n",
    "              u\"Что это на самом деле так, знаем только мы, поднявшиеся до идеи духа и тем самым возвысившиеся\",\n",
    "              u\"Так как я существует для себя только как формальное тождество, то диалектическое движение понятия\",\n",
    "              u\"прогрессирующее определение сознания не есть для него его деятельность, но оно есть в себе и для\",\n",
    "              u\"этого сознания является изменением объекта. Сознание оказывается поэтому различно определенным\",\n",
    "              u\"соответственно оказывается поэтому различно определенным соответственно различию данного предмета,\",\n",
    "              u\"а его дальнейшее развитие -- изменением определений его объекта. Я, субъект сознания, есть\",\n",
    "              u\"мышление; дальнейшее логическое определение объекта есть то, что тождественно в субъекте и объекте,\",]"
   ]
  },
  {
   "cell_type": "code",
   "execution_count": 338,
   "metadata": {},
   "outputs": [],
   "source": [
    "gegel_target = np.ones(len(gegel), dtype=np.int64)"
   ]
  },
  {
   "cell_type": "code",
   "execution_count": 352,
   "metadata": {},
   "outputs": [],
   "source": [
    "from sklearn.feature_extraction.text import CountVectorizer\n",
    "cv = CountVectorizer()\n",
    "cv_counts = cv.fit_transform(np.hstack([gogol, gegel]))\n",
    "gogol_train_counts = cv.transform(gogol)\n",
    "gegel_train_counts = cv.transform(gegel)\n",
    "gogol_test_counts = cv.transform(gogol_test)\n",
    "gegel_test_counts = cv.transform(gegel_test)"
   ]
  },
  {
   "cell_type": "code",
   "execution_count": 340,
   "metadata": {},
   "outputs": [
    {
     "data": {
      "text/plain": [
       "(56, 475)"
      ]
     },
     "execution_count": 340,
     "metadata": {},
     "output_type": "execute_result"
    }
   ],
   "source": [
    "cv_counts.shape"
   ]
  },
  {
   "cell_type": "code",
   "execution_count": 341,
   "metadata": {},
   "outputs": [
    {
     "data": {
      "text/plain": [
       "(12, 475)"
      ]
     },
     "execution_count": 341,
     "metadata": {},
     "output_type": "execute_result"
    }
   ],
   "source": [
    "gogol_test_counts.shape"
   ]
  },
  {
   "cell_type": "code",
   "execution_count": 342,
   "metadata": {},
   "outputs": [
    {
     "data": {
      "text/plain": [
       "(12, 475)"
      ]
     },
     "execution_count": 342,
     "metadata": {},
     "output_type": "execute_result"
    }
   ],
   "source": [
    "gegel_test_counts.shape"
   ]
  },
  {
   "cell_type": "markdown",
   "metadata": {},
   "source": [
    "**Now the information is tokenized, so we can apply some standart classifier to it, for example, Naive Bias**"
   ]
  },
  {
   "cell_type": "code",
   "execution_count": 343,
   "metadata": {},
   "outputs": [],
   "source": [
    "from sklearn.naive_bayes import MultinomialNB\n",
    "clf = MultinomialNB().fit(cv_counts, np.hstack([gogol_target, gegel_target]))"
   ]
  },
  {
   "cell_type": "code",
   "execution_count": 344,
   "metadata": {},
   "outputs": [],
   "source": [
    "gogol_test_target = np.zeros(len(gogol_test))\n",
    "gegel_test_target = np.ones(len(gegel_test))"
   ]
  },
  {
   "cell_type": "code",
   "execution_count": 368,
   "metadata": {
    "scrolled": true
   },
   "outputs": [
    {
     "name": "stdout",
     "output_type": "stream",
     "text": [
      "Gogol test accuracy: 66.67%\n"
     ]
    }
   ],
   "source": [
    "print(\"Gogol test accuracy: %.2f%%\" % (100 * np.mean(clf.predict(gogol_test_counts) == gogol_test_target)))"
   ]
  },
  {
   "cell_type": "code",
   "execution_count": 371,
   "metadata": {},
   "outputs": [
    {
     "name": "stdout",
     "output_type": "stream",
     "text": [
      "Gogol test accuracy: 100.00%\n"
     ]
    }
   ],
   "source": [
    "print(\"Gogol test accuracy: %.2f%%\" % (100 * np.mean(clf.predict(gogol_train_counts) == gogol_target)))"
   ]
  },
  {
   "cell_type": "code",
   "execution_count": 372,
   "metadata": {},
   "outputs": [
    {
     "name": "stdout",
     "output_type": "stream",
     "text": [
      "Gegel test accuracy: 75.00%\n"
     ]
    }
   ],
   "source": [
    "print(\"Gegel test accuracy: %.2f%%\" % (100 * np.mean(clf.predict(gegel_test_counts) == gegel_test_target)))"
   ]
  },
  {
   "cell_type": "code",
   "execution_count": 373,
   "metadata": {},
   "outputs": [
    {
     "name": "stdout",
     "output_type": "stream",
     "text": [
      "Gegel test accuracy: 100.00\n"
     ]
    }
   ],
   "source": [
    "print(\"Gegel test accuracy: %.2f\" % (100 * np.mean(clf.predict(gegel_train_counts) == gegel_target)))"
   ]
  }
 ],
 "metadata": {
  "kernelspec": {
   "display_name": "Python 3",
   "language": "python",
   "name": "python3"
  },
  "language_info": {
   "codemirror_mode": {
    "name": "ipython",
    "version": 3
   },
   "file_extension": ".py",
   "mimetype": "text/x-python",
   "name": "python",
   "nbconvert_exporter": "python",
   "pygments_lexer": "ipython3",
   "version": "3.6.3"
  }
 },
 "nbformat": 4,
 "nbformat_minor": 2
}
